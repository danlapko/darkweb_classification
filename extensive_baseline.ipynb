{
 "cells": [
  {
   "cell_type": "markdown",
   "source": [
    "## Load Data"
   ],
   "metadata": {
    "collapsed": false,
    "pycharm": {
     "name": "#%% md\n"
    }
   }
  },
  {
   "cell_type": "code",
   "execution_count": 3,
   "outputs": [],
   "source": [
    "import pandas as pd\n",
    "\n",
    "df = pd.read_csv(\"exploit_hacking_set Data Scientist.csv\",\n",
    "                 converters={\"type\": str, \"label\": str, \"sub_label\": str, \"text\": str, \"title\": str, \"site\": str})"
   ],
   "metadata": {
    "collapsed": false,
    "pycharm": {
     "name": "#%%\n"
    }
   }
  },
  {
   "cell_type": "code",
   "execution_count": 4,
   "outputs": [
    {
     "data": {
      "text/plain": "       type     label sub_label  \\\n0      post   Hacking      None   \n1      post     Fraud      None   \n2      post     Fraud   Carding   \n3      post      None      None   \n4      post  Computer    Coding   \n...     ...       ...       ...   \n10330                             \n10331                             \n10332                             \n10333                             \n10334                             \n\n                                                    text  \\\n0      i haven t seen a post about this rat lately . ...   \n1      looking for us partner simple extra money add ...   \n2      i have drop address in us eu for who need for ...   \n3      have a closed prefix on the thread names after...   \n4      hey guys . i was working on an updated mass tw...   \n...                                                  ...   \n10330                                                      \n10331                                                      \n10332                                                      \n10333                                                      \n10334                                                      \n\n                                           title              site  \\\n0                          spynote v android rat  forum_sinisterly   \n1      looking for us partner simple extra money    forum_alphabay   \n2            for who needs drop address in us eu    forum_alphabay   \n3                                    suggestions  forum_sinisterly   \n4                          php leaks / downloads  forum_leakforums   \n...                                          ...               ...   \n10330                                                                \n10331                                                                \n10332                                                                \n10333                                                                \n10334                                                                \n\n       spont_score  \n0        60.869565  \n1       -30.434783  \n2      -108.695652  \n3       -26.086957  \n4        -4.347826  \n...            ...  \n10330     0.239000  \n10331     0.239000  \n10332     0.239000  \n10333     0.239000  \n10334     0.239000  \n\n[10335 rows x 7 columns]",
      "text/html": "<div>\n<style scoped>\n    .dataframe tbody tr th:only-of-type {\n        vertical-align: middle;\n    }\n\n    .dataframe tbody tr th {\n        vertical-align: top;\n    }\n\n    .dataframe thead th {\n        text-align: right;\n    }\n</style>\n<table border=\"1\" class=\"dataframe\">\n  <thead>\n    <tr style=\"text-align: right;\">\n      <th></th>\n      <th>type</th>\n      <th>label</th>\n      <th>sub_label</th>\n      <th>text</th>\n      <th>title</th>\n      <th>site</th>\n      <th>spont_score</th>\n    </tr>\n  </thead>\n  <tbody>\n    <tr>\n      <th>0</th>\n      <td>post</td>\n      <td>Hacking</td>\n      <td>None</td>\n      <td>i haven t seen a post about this rat lately . ...</td>\n      <td>spynote v android rat</td>\n      <td>forum_sinisterly</td>\n      <td>60.869565</td>\n    </tr>\n    <tr>\n      <th>1</th>\n      <td>post</td>\n      <td>Fraud</td>\n      <td>None</td>\n      <td>looking for us partner simple extra money add ...</td>\n      <td>looking for us partner simple extra money</td>\n      <td>forum_alphabay</td>\n      <td>-30.434783</td>\n    </tr>\n    <tr>\n      <th>2</th>\n      <td>post</td>\n      <td>Fraud</td>\n      <td>Carding</td>\n      <td>i have drop address in us eu for who need for ...</td>\n      <td>for who needs drop address in us eu</td>\n      <td>forum_alphabay</td>\n      <td>-108.695652</td>\n    </tr>\n    <tr>\n      <th>3</th>\n      <td>post</td>\n      <td>None</td>\n      <td>None</td>\n      <td>have a closed prefix on the thread names after...</td>\n      <td>suggestions</td>\n      <td>forum_sinisterly</td>\n      <td>-26.086957</td>\n    </tr>\n    <tr>\n      <th>4</th>\n      <td>post</td>\n      <td>Computer</td>\n      <td>Coding</td>\n      <td>hey guys . i was working on an updated mass tw...</td>\n      <td>php leaks / downloads</td>\n      <td>forum_leakforums</td>\n      <td>-4.347826</td>\n    </tr>\n    <tr>\n      <th>...</th>\n      <td>...</td>\n      <td>...</td>\n      <td>...</td>\n      <td>...</td>\n      <td>...</td>\n      <td>...</td>\n      <td>...</td>\n    </tr>\n    <tr>\n      <th>10330</th>\n      <td></td>\n      <td></td>\n      <td></td>\n      <td></td>\n      <td></td>\n      <td></td>\n      <td>0.239000</td>\n    </tr>\n    <tr>\n      <th>10331</th>\n      <td></td>\n      <td></td>\n      <td></td>\n      <td></td>\n      <td></td>\n      <td></td>\n      <td>0.239000</td>\n    </tr>\n    <tr>\n      <th>10332</th>\n      <td></td>\n      <td></td>\n      <td></td>\n      <td></td>\n      <td></td>\n      <td></td>\n      <td>0.239000</td>\n    </tr>\n    <tr>\n      <th>10333</th>\n      <td></td>\n      <td></td>\n      <td></td>\n      <td></td>\n      <td></td>\n      <td></td>\n      <td>0.239000</td>\n    </tr>\n    <tr>\n      <th>10334</th>\n      <td></td>\n      <td></td>\n      <td></td>\n      <td></td>\n      <td></td>\n      <td></td>\n      <td>0.239000</td>\n    </tr>\n  </tbody>\n</table>\n<p>10335 rows × 7 columns</p>\n</div>"
     },
     "execution_count": 4,
     "metadata": {},
     "output_type": "execute_result"
    }
   ],
   "source": [
    "df[\"spont_score\"] = df[\"spont_score\"].fillna(value=0.239)\n",
    "df"
   ],
   "metadata": {
    "collapsed": false,
    "pycharm": {
     "name": "#%%\n"
    }
   }
  },
  {
   "cell_type": "code",
   "execution_count": 5,
   "outputs": [],
   "source": [
    "y_hac = df['label'] == 'Hacking'\n",
    "y_hac = y_hac.astype(int)\n",
    "y_exp = df['sub_label'] == 'Exploit'\n",
    "y_exp = y_exp.astype(int)\n",
    "\n",
    "y_hac_exp = df['sub_label'] == 'Exploit'\n",
    "y_hac_exp[y_hac == 1] = 1\n",
    "y_hac_exp[y_exp == 1] = 2\n",
    "y_hac_exp = y_hac_exp.astype(int)"
   ],
   "metadata": {
    "collapsed": false,
    "pycharm": {
     "name": "#%%\n"
    }
   }
  },
  {
   "cell_type": "code",
   "execution_count": 19,
   "outputs": [],
   "source": [
    "df_X = df.drop(columns=['label', 'sub_label'])\n",
    "if 'zero_shot_tmp' in df_X.columns.values:\n",
    "    df_X = df_X.drop(columns=['zero_shot_tmp'])"
   ],
   "metadata": {
    "collapsed": false,
    "pycharm": {
     "name": "#%%\n"
    }
   }
  },
  {
   "cell_type": "code",
   "execution_count": 11,
   "outputs": [],
   "source": [
    "df_X['text_len'] = df_X['text'].apply(len)\n",
    "df_X['title_len'] = df_X['title'].apply(len)\n",
    "\n",
    "df_X['text'] = df_X['text'].apply(lambda x: x[:2000])\n",
    "df_X['title'] = df_X['title'].apply(lambda x: x[:300])\n"
   ],
   "metadata": {
    "collapsed": false,
    "pycharm": {
     "name": "#%%\n"
    }
   }
  },
  {
   "cell_type": "markdown",
   "source": [
    "## CatBoost with text features (Original Dataset)"
   ],
   "metadata": {
    "collapsed": false,
    "pycharm": {
     "name": "#%% md\n"
    }
   }
  },
  {
   "cell_type": "code",
   "execution_count": 22,
   "outputs": [],
   "source": [
    "from catboost import CatBoostClassifier\n",
    "from cross_val import cross_val"
   ],
   "metadata": {
    "collapsed": false,
    "pycharm": {
     "name": "#%%\n"
    }
   }
  },
  {
   "cell_type": "markdown",
   "source": [
    "### Hacking"
   ],
   "metadata": {
    "collapsed": false,
    "pycharm": {
     "name": "#%% md\n"
    }
   }
  },
  {
   "cell_type": "code",
   "execution_count": null,
   "outputs": [],
   "source": [
    "clf_factory = lambda: CatBoostClassifier(iterations=500,\n",
    "                                         learning_rate=0.2,\n",
    "                                         loss_function='Logloss',\n",
    "                                         verbose=False,\n",
    "                                         text_features=['text', 'title'],\n",
    "                                         cat_features=['type', 'site'],\n",
    "                                         feature_calcers=['BoW:top_tokens_count=2000', 'BoW:top_tokens_count=500'],\n",
    "                                         )\n",
    "cross_val(clf_factory, df_X, y_hac)\n",
    "# Cross Validation k_folds=5, n_classes=2:\n",
    "#         0 pr: 0.8375 rec: 0.7204301075268817 f1: 0.7745664739884393\n",
    "#         1 pr: 0.8515625 rec: 0.5828877005347594 f1: 0.6920634920634919\n",
    "#         2 pr: 0.8689655172413793 rec: 0.7078651685393258 f1: 0.7801857585139319\n",
    "#         3 pr: 0.8306451612903226 rec: 0.5953757225433526 f1: 0.6936026936026936\n",
    "#         4 pr: 0.8601398601398601 rec: 0.6180904522613065 f1: 0.7192982456140351\n",
    "# avg: pr=0.8497626077343124 rec=0.6449298302811253 f1=0.7319433327565184\n"
   ],
   "metadata": {
    "collapsed": false,
    "pycharm": {
     "name": "#%%\n",
     "is_executing": true
    }
   }
  },
  {
   "cell_type": "markdown",
   "source": [
    "### Exploit"
   ],
   "metadata": {
    "collapsed": false,
    "pycharm": {
     "name": "#%% md\n"
    }
   }
  },
  {
   "cell_type": "code",
   "execution_count": null,
   "outputs": [],
   "source": [
    "clf_factory = lambda: CatBoostClassifier(iterations=500,\n",
    "                                         learning_rate=0.2,\n",
    "                                         loss_function='Logloss',\n",
    "                                         verbose=False,\n",
    "                                         text_features=['text', 'title'],\n",
    "                                         cat_features=['type', 'site'],\n",
    "                                         feature_calcers=['BoW:top_tokens_count=2000', 'BoW:top_tokens_count=500'],\n",
    "                                         )\n",
    "cross_val(clf_factory, df_X, y_exp)\n",
    "# Cross Validation k_folds=5, n_classes=2:\n",
    "#         0 pr: 0.8395061728395061 rec: 0.7906976744186046 f1: 0.8143712574850299\n",
    "#         1 pr: 0.863013698630137 rec: 0.8289473684210527 f1: 0.8456375838926175\n",
    "#         2 pr: 0.875 rec: 0.8076923076923077 f1: 0.8400000000000001\n",
    "#         3 pr: 0.921875 rec: 0.7866666666666666 f1: 0.8489208633093526\n",
    "#         4 pr: 0.863013698630137 rec: 0.7590361445783133 f1: 0.8076923076923077\n",
    "# avg: pr=0.872481714019956 rec=0.794608032355389 f1=0.8313244024758616\n"
   ],
   "metadata": {
    "collapsed": false,
    "pycharm": {
     "name": "#%%\n"
    }
   }
  },
  {
   "cell_type": "markdown",
   "source": [
    "## CatBoost (Extended with zero-shot features dataset)\n"
   ],
   "metadata": {
    "collapsed": false,
    "pycharm": {
     "name": "#%% md\n"
    }
   }
  },
  {
   "cell_type": "markdown",
   "source": [
    "### Hacking"
   ],
   "metadata": {
    "collapsed": false
   }
  },
  {
   "cell_type": "code",
   "execution_count": null,
   "outputs": [],
   "source": [
    "clf_factory = lambda: CatBoostClassifier(iterations=500,\n",
    "                                         learning_rate=0.2,\n",
    "                                         loss_function='Logloss',\n",
    "                                         verbose=False,\n",
    "                                         text_features=['text', 'title'],\n",
    "                                         cat_features=['type', 'site', 'zero_shot_1st_label', 'zero_shot_1st_sub_label'],\n",
    "                                         feature_calcers=['BoW:top_tokens_count=2000', 'BoW:top_tokens_count=500'],\n",
    "                                         )\n",
    "cross_val(clf_factory, df_X, y_hac)\n",
    "# Cross Validation k_folds=5, n_classes=2:\n",
    "#         0 pr: 0.8571428571428571 rec: 0.7096774193548387 f1: 0.7764705882352942\n",
    "#         1 pr: 0.8636363636363636 rec: 0.6096256684491979 f1: 0.7147335423197494\n",
    "#         2 pr: 0.8590604026845637 rec: 0.7191011235955056 f1: 0.782874617737003\n",
    "#         3 pr: 0.8345323741007195 rec: 0.6705202312138728 f1: 0.7435897435897436\n",
    "#         4 pr: 0.8490566037735849 rec: 0.678391959798995 f1: 0.7541899441340782\n",
    "# avg: pr=0.8526857202676178 rec=0.6774632804824819 f1=0.7543716872031736"
   ],
   "metadata": {
    "collapsed": false,
    "pycharm": {
     "name": "#%%\n"
    }
   }
  },
  {
   "cell_type": "markdown",
   "source": [
    "### Exploit"
   ],
   "metadata": {
    "collapsed": false
   }
  },
  {
   "cell_type": "code",
   "execution_count": null,
   "outputs": [],
   "source": [
    "clf_factory = lambda: CatBoostClassifier(iterations=500,\n",
    "                                         learning_rate=0.2,\n",
    "                                         loss_function='Logloss',\n",
    "                                         verbose=False,\n",
    "                                         text_features=['text', 'title'],\n",
    "                                         cat_features=['type', 'site',\n",
    "                                                       'zero_shot_1st_label', 'zero_shot_1st_sub_label'],\n",
    "                                         feature_calcers=['BoW:top_tokens_count=2000', 'BoW:top_tokens_count=500'],\n",
    "                                         )\n",
    "cross_val(clf_factory, df_X, y_exp)\n",
    "# Cross Validation k_folds=5, n_classes=2:\n",
    "#         0 pr: 0.8433734939759037 rec: 0.813953488372093 f1: 0.8284023668639053\n",
    "#         1 pr: 0.9076923076923077 rec: 0.7763157894736842 f1: 0.8368794326241134\n",
    "#         2 pr: 0.8783783783783784 rec: 0.8333333333333334 f1: 0.855263157894737\n",
    "#         3 pr: 0.9206349206349206 rec: 0.7733333333333333 f1: 0.8405797101449275\n",
    "#         4 pr: 0.8714285714285714 rec: 0.7349397590361446 f1: 0.7973856209150327\n",
    "# avg: pr=0.8843015344220163 rec=0.7863751407097178 f1=0.8317020576885431"
   ],
   "metadata": {
    "collapsed": false,
    "pycharm": {
     "name": "#%%\n"
    }
   }
  }
 ],
 "metadata": {
  "kernelspec": {
   "display_name": "Python 3",
   "language": "python",
   "name": "python3"
  },
  "language_info": {
   "codemirror_mode": {
    "name": "ipython",
    "version": 2
   },
   "file_extension": ".py",
   "mimetype": "text/x-python",
   "name": "python",
   "nbconvert_exporter": "python",
   "pygments_lexer": "ipython2",
   "version": "2.7.6"
  }
 },
 "nbformat": 4,
 "nbformat_minor": 0
}