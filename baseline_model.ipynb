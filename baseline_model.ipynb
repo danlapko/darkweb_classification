{
 "cells": [
  {
   "cell_type": "code",
   "metadata": {
    "collapsed": true,
    "pycharm": {
     "name": "#%%\n"
    }
   },
   "source": [
    "import pandas as pd"
   ],
   "execution_count": 1,
   "outputs": []
  },
  {
   "cell_type": "markdown",
   "source": [
    "## Load dataset"
   ],
   "metadata": {
    "collapsed": false,
    "pycharm": {
     "name": "#%% md\n"
    }
   }
  },
  {
   "cell_type": "code",
   "execution_count": 2,
   "outputs": [],
   "source": [
    "df = pd.read_csv(\"exploit_hacking_set Data Scientist.csv\",\n",
    "                 converters={\"type\": str, \"label\": str, \"sub_label\": str, \"text\": str, \"title\": str, \"site\": str})\n"
   ],
   "metadata": {
    "collapsed": false,
    "pycharm": {
     "name": "#%%\n"
    }
   }
  },
  {
   "cell_type": "code",
   "execution_count": 3,
   "outputs": [
    {
     "data": {
      "text/plain": "type            object\nlabel           object\nsub_label       object\ntext            object\ntitle           object\nsite            object\nspont_score    float64\ndtype: object"
     },
     "execution_count": 3,
     "metadata": {},
     "output_type": "execute_result"
    }
   ],
   "source": [
    "df.dtypes"
   ],
   "metadata": {
    "collapsed": false,
    "pycharm": {
     "name": "#%%\n"
    }
   }
  },
  {
   "cell_type": "code",
   "execution_count": 4,
   "outputs": [
    {
     "data": {
      "text/plain": "       type     label sub_label  \\\n0      post   Hacking      None   \n1      post     Fraud      None   \n2      post     Fraud   Carding   \n3      post      None      None   \n4      post  Computer    Coding   \n...     ...       ...       ...   \n10330                             \n10331                             \n10332                             \n10333                             \n10334                             \n\n                                                    text  \\\n0      i haven t seen a post about this rat lately . ...   \n1      looking for us partner simple extra money add ...   \n2      i have drop address in us eu for who need for ...   \n3      have a closed prefix on the thread names after...   \n4      hey guys . i was working on an updated mass tw...   \n...                                                  ...   \n10330                                                      \n10331                                                      \n10332                                                      \n10333                                                      \n10334                                                      \n\n                                           title              site  \\\n0                          spynote v android rat  forum_sinisterly   \n1      looking for us partner simple extra money    forum_alphabay   \n2            for who needs drop address in us eu    forum_alphabay   \n3                                    suggestions  forum_sinisterly   \n4                          php leaks / downloads  forum_leakforums   \n...                                          ...               ...   \n10330                                                                \n10331                                                                \n10332                                                                \n10333                                                                \n10334                                                                \n\n       spont_score  \n0        60.869565  \n1       -30.434783  \n2      -108.695652  \n3       -26.086957  \n4        -4.347826  \n...            ...  \n10330          NaN  \n10331          NaN  \n10332          NaN  \n10333          NaN  \n10334          NaN  \n\n[10335 rows x 7 columns]",
      "text/html": "<div>\n<style scoped>\n    .dataframe tbody tr th:only-of-type {\n        vertical-align: middle;\n    }\n\n    .dataframe tbody tr th {\n        vertical-align: top;\n    }\n\n    .dataframe thead th {\n        text-align: right;\n    }\n</style>\n<table border=\"1\" class=\"dataframe\">\n  <thead>\n    <tr style=\"text-align: right;\">\n      <th></th>\n      <th>type</th>\n      <th>label</th>\n      <th>sub_label</th>\n      <th>text</th>\n      <th>title</th>\n      <th>site</th>\n      <th>spont_score</th>\n    </tr>\n  </thead>\n  <tbody>\n    <tr>\n      <th>0</th>\n      <td>post</td>\n      <td>Hacking</td>\n      <td>None</td>\n      <td>i haven t seen a post about this rat lately . ...</td>\n      <td>spynote v android rat</td>\n      <td>forum_sinisterly</td>\n      <td>60.869565</td>\n    </tr>\n    <tr>\n      <th>1</th>\n      <td>post</td>\n      <td>Fraud</td>\n      <td>None</td>\n      <td>looking for us partner simple extra money add ...</td>\n      <td>looking for us partner simple extra money</td>\n      <td>forum_alphabay</td>\n      <td>-30.434783</td>\n    </tr>\n    <tr>\n      <th>2</th>\n      <td>post</td>\n      <td>Fraud</td>\n      <td>Carding</td>\n      <td>i have drop address in us eu for who need for ...</td>\n      <td>for who needs drop address in us eu</td>\n      <td>forum_alphabay</td>\n      <td>-108.695652</td>\n    </tr>\n    <tr>\n      <th>3</th>\n      <td>post</td>\n      <td>None</td>\n      <td>None</td>\n      <td>have a closed prefix on the thread names after...</td>\n      <td>suggestions</td>\n      <td>forum_sinisterly</td>\n      <td>-26.086957</td>\n    </tr>\n    <tr>\n      <th>4</th>\n      <td>post</td>\n      <td>Computer</td>\n      <td>Coding</td>\n      <td>hey guys . i was working on an updated mass tw...</td>\n      <td>php leaks / downloads</td>\n      <td>forum_leakforums</td>\n      <td>-4.347826</td>\n    </tr>\n    <tr>\n      <th>...</th>\n      <td>...</td>\n      <td>...</td>\n      <td>...</td>\n      <td>...</td>\n      <td>...</td>\n      <td>...</td>\n      <td>...</td>\n    </tr>\n    <tr>\n      <th>10330</th>\n      <td></td>\n      <td></td>\n      <td></td>\n      <td></td>\n      <td></td>\n      <td></td>\n      <td>NaN</td>\n    </tr>\n    <tr>\n      <th>10331</th>\n      <td></td>\n      <td></td>\n      <td></td>\n      <td></td>\n      <td></td>\n      <td></td>\n      <td>NaN</td>\n    </tr>\n    <tr>\n      <th>10332</th>\n      <td></td>\n      <td></td>\n      <td></td>\n      <td></td>\n      <td></td>\n      <td></td>\n      <td>NaN</td>\n    </tr>\n    <tr>\n      <th>10333</th>\n      <td></td>\n      <td></td>\n      <td></td>\n      <td></td>\n      <td></td>\n      <td></td>\n      <td>NaN</td>\n    </tr>\n    <tr>\n      <th>10334</th>\n      <td></td>\n      <td></td>\n      <td></td>\n      <td></td>\n      <td></td>\n      <td></td>\n      <td>NaN</td>\n    </tr>\n  </tbody>\n</table>\n<p>10335 rows × 7 columns</p>\n</div>"
     },
     "execution_count": 4,
     "metadata": {},
     "output_type": "execute_result"
    }
   ],
   "source": [
    "df"
   ],
   "metadata": {
    "collapsed": false,
    "pycharm": {
     "name": "#%%\n"
    }
   }
  },
  {
   "cell_type": "markdown",
   "source": [
    "### Convert categorical features to one hot"
   ],
   "metadata": {
    "collapsed": false,
    "pycharm": {
     "name": "#%% md\n"
    }
   }
  },
  {
   "cell_type": "code",
   "execution_count": 5,
   "outputs": [],
   "source": [
    "one_hot_type = pd.get_dummies(df['type'])\n",
    "one_hot_site = pd.get_dummies(df['site'])\n",
    "one_hot_spont_score = pd.get_dummies(df['spont_score'])\n",
    "\n",
    "df_X = pd.concat([one_hot_type, one_hot_site, one_hot_spont_score], axis=1)\n",
    "\n",
    "df_X[\"spont_score\"] = df['spont_score']\n",
    "\n",
    "# add simple text-based features\n",
    "df_X[\"text_len\"] = df['text'].apply(len)\n",
    "df_X[\"title_len\"] = df['title'].apply(len)\n",
    "\n",
    "# create targets for Naive and Flat approaches\n",
    "y_hac = df['label'] == 'Hacking'\n",
    "y_hac = y_hac.astype(int)\n",
    "y_exp = df['sub_label'] == 'Exploit'\n",
    "y_exp = y_exp.astype(int)\n",
    "\n",
    "y_hac_exp = df['sub_label'] == 'Exploit'\n",
    "y_hac_exp[y_hac == 1] = 1\n",
    "y_hac_exp[y_exp == 1] = 2\n",
    "y_hac_exp = y_hac_exp.astype(int)"
   ],
   "metadata": {
    "collapsed": false,
    "pycharm": {
     "name": "#%%\n"
    }
   }
  },
  {
   "cell_type": "code",
   "execution_count": 6,
   "outputs": [
    {
     "data": {
      "text/plain": "0    8590\n1    1745\nName: label, dtype: int64"
     },
     "execution_count": 6,
     "metadata": {},
     "output_type": "execute_result"
    }
   ],
   "source": [
    "y_hac.value_counts()"
   ],
   "metadata": {
    "collapsed": false,
    "pycharm": {
     "name": "#%%\n"
    }
   }
  },
  {
   "cell_type": "code",
   "execution_count": 7,
   "outputs": [
    {
     "data": {
      "text/plain": "0    9581\n1     754\nName: sub_label, dtype: int64"
     },
     "execution_count": 7,
     "metadata": {},
     "output_type": "execute_result"
    }
   ],
   "source": [
    "y_exp.value_counts()"
   ],
   "metadata": {
    "collapsed": false,
    "pycharm": {
     "name": "#%%\n"
    }
   }
  },
  {
   "cell_type": "code",
   "execution_count": 8,
   "outputs": [
    {
     "data": {
      "text/plain": "0    8590\n1     991\n2     754\nName: sub_label, dtype: int64"
     },
     "execution_count": 8,
     "metadata": {},
     "output_type": "execute_result"
    }
   ],
   "source": [
    "y_hac_exp.value_counts()"
   ],
   "metadata": {
    "collapsed": false,
    "pycharm": {
     "name": "#%%\n"
    }
   }
  },
  {
   "cell_type": "code",
   "execution_count": 9,
   "outputs": [
    {
     "name": "stdout",
     "output_type": "stream",
     "text": [
      ":     0\n",
      "    0\n",
      "dtype: int64\n",
      "post: 0\n",
      "product: 0\n",
      "reply: 0\n",
      ":     0\n",
      "    0\n",
      "dtype: int64\n",
      "cc_market_approved_su: 0\n",
      "cc_market_bigbase: 0\n",
      "cc_market_bigmoney: 0\n",
      "cc_market_bingo: 0\n",
      "cc_market_cv2: 0\n",
      "cc_market_ferumshop: 0\n",
      "cc_market_goldenshop: 0\n",
      "cc_market_goswipe: 0\n",
      "cc_market_hustlerbank: 0\n",
      "cc_market_jokersstash: 0\n",
      "cc_market_tormarket: 0\n",
      "cc_market_validcc: 0\n",
      "cc_market_wuzzup: 0\n",
      "dread: 0\n",
      "forum_0day: 0\n",
      "forum_0x00sec: 0\n",
      "forum_2cto: 0\n",
      "forum_51cto: 0\n",
      "forum_52pojie: 0\n",
      "forum_8chan: 0\n",
      "forum_agora: 0\n",
      "forum_aljyyosh: 0\n",
      "forum_alkrsan: 0\n",
      "forum_alligatorcash: 0\n",
      "forum_alphabay: 0\n",
      "forum_altenen: 0\n",
      "forum_antichat: 0\n",
      "forum_antionline: 0\n",
      "forum_ashiyane: 0\n",
      "forum_bestblackhat: 0\n",
      "forum_bestblackhat_vip: 0\n",
      "forum_bhf: 0\n",
      "forum_bitcointalk: 0\n",
      "forum_bitshacking: 0\n",
      "forum_blackhacker: 0\n",
      "forum_blackhatworld: 0\n",
      "forum_blackstuff: 0\n",
      "forum_blackworld: 0\n",
      "forum_bpcsquad: 0\n",
      "forum_breachforums: 0\n",
      "forum_breachteam: 0\n",
      "forum_brutezone: 0\n",
      "forum_carder: 0\n",
      "forum_cardingmafia: 0\n",
      "forum_cardvilla: 0\n",
      "forum_ccc: 0\n",
      "forum_cctry: 0\n",
      "forum_cebulka: 0\n",
      "forum_chinesedarknet: 0\n",
      "forum_club2crd: 0\n",
      "forum_cnhonkerarmy: 0\n",
      "forum_cop: 0\n",
      "forum_cracked: 0\n",
      "forum_crdpro: 0\n",
      "forum_crimes: 0\n",
      "forum_crypto_sr3: 0\n",
      "forum_csu: 0\n",
      "forum_cxsecurity: 0\n",
      "forum_darkmarket: 0\n",
      "forum_darkmoney: 0\n",
      "forum_darkwebs: 0\n",
      "forum_deepwebchinese: 0\n",
      "forum_demonforums: 0\n",
      "forum_devilteam_ru: 0\n",
      "forum_devilzcode: 0\n",
      "forum_devpoint: 0\n",
      "forum_digitalkaos: 0\n",
      "forum_digitalpoint: 0\n",
      "forum_dreammarket: 0\n",
      "forum_dublikat: 0\n",
      "forum_elhacker: 0\n",
      "forum_eviloctal: 0\n",
      "forum_evolution: 0\n",
      "forum_exploit: 0\n",
      "forum_fraudstersse: 0\n",
      "forum_fsell: 0\n",
      "forum_galaxy3: 0\n",
      "forum_gazahackerteam: 0\n",
      "forum_gerki: 0\n",
      "forum_grabberz: 0\n",
      "forum_greysec: 0\n",
      "forum_guidedhacking: 0\n",
      "forum_hack80: 0\n",
      "forum_hack_ar: 0\n",
      "forum_hackerorganization: 0\n",
      "forum_hackforums: 0\n",
      "forum_hackforumt: 0\n",
      "forum_hackthissite: 0\n",
      "forum_hackxcrack: 0\n",
      "forum_hak5: 0\n",
      "forum_hansa: 0\n",
      "forum_hardforum: 0\n",
      "forum_hardwarezonesg: 0\n",
      "forum_hashkiller: 0\n",
      "forum_hegoubbs: 0\n",
      "forum_hiddenanswers: 0\n",
      "forum_hiddenanswers_pt: 0\n",
      "forum_huameng: 0\n",
      "forum_hva: 0\n",
      "forum_idw: 0\n",
      "forum_ifud: 0\n",
      "forum_infraud: 0\n",
      "forum_intel_exchange: 0\n",
      "forum_irananonymous: 0\n",
      "forum_jamiiforums: 0\n",
      "forum_kalilinux: 0\n",
      "forum_kenyatalk: 0\n",
      "forum_korovka: 0\n",
      "forum_kurupt: 0\n",
      "forum_l33t: 0\n",
      "forum_lampeduza: 0\n",
      "forum_leakedforums: 0\n",
      "forum_leakforums: 0\n",
      "forum_leakninja: 0\n",
      "forum_level23hackertools: 0\n",
      "forum_locker_it: 0\n",
      "forum_lowendtalk: 0\n",
      "forum_lowyat: 0\n",
      "forum_malvult: 0\n",
      "forum_mhhauto: 0\n",
      "forum_migalki: 0\n",
      "forum_mirrorh: 0\n",
      "forum_moneyteam: 0\n",
      "forum_mostsecurity: 0\n",
      "forum_mpgh: 0\n",
      "forum_nucleus: 0\n",
      "forum_nulled: 0\n",
      "forum_offensivecommunity: 0\n",
      "forum_ogusers: 0\n",
      "forum_onionland: 0\n",
      "forum_opensc: 0\n",
      "forum_overchanlolz: 0\n",
      "forum_paldf: 0\n",
      "forum_pediy: 0\n",
      "forum_persiantools: 0\n",
      "forum_powersurge: 0\n",
      "forum_prvtzone: 0\n",
      "forum_raidforum: 0\n",
      "forum_respuestasocultas: 0\n",
      "forum_romaniansecurityteam: 0\n",
      "forum_runion: 0\n",
      "forum_rutor: 0\n",
      "forum_shopworld: 0\n",
      "forum_sinisterly: 0\n",
      "forum_skyfraud: 0\n",
      "forum_spyhackerz: 0\n",
      "forum_tahribat: 0\n",
      "forum_tmg: 0\n",
      "forum_toolbase: 0\n",
      "forum_torum: 0\n",
      "forum_turkhackteam: 0\n",
      "forum_tuts4you: 0\n",
      "forum_undercode: 0\n",
      "forum_undergroundmexico: 0\n",
      "forum_unixorder: 0\n",
      "forum_unknowncheats: 0\n",
      "forum_v3rmillion: 0\n",
      "forum_v4team: 0\n",
      "forum_vbhacker: 0\n",
      "forum_vbspiders: 0\n",
      "forum_vendorsclub: 0\n",
      "forum_verified: 0\n",
      "forum_x6x: 0\n",
      "forum_xcode: 0\n",
      "forum_xss: 0\n",
      "forum_youhack: 0\n",
      "market_abraxas: 0\n",
      "market_alphabay: 0\n",
      "market_dreammarket: 0\n",
      "market_evolution: 0\n",
      "reddit: 0\n",
      "twitter: 0\n",
      "zeronet_zerotalk: 0\n",
      "-130.4347826: 0\n",
      "-126.0869565: 0\n",
      "-121.7391304: 0\n",
      "-117.3913043: 0\n",
      "-113.0434783: 0\n",
      "-108.6956522: 0\n",
      "-104.3478261: 0\n",
      "-100.0: 0\n",
      "-95.65217391: 0\n",
      "-91.30434783: 0\n",
      "-86.95652174: 0\n",
      "-82.60869565: 0\n",
      "-78.26086957: 0\n",
      "-73.91304348: 0\n",
      "-69.56521739: 0\n",
      "-65.2173913: 0\n",
      "-60.86956522: 0\n",
      "-56.52173913: 0\n",
      "-52.17391304: 0\n",
      "-47.82608696: 0\n",
      "-43.47826087: 0\n",
      "-39.13043478: 0\n",
      "-34.7826087: 0\n",
      "-30.43478261: 0\n",
      "-26.08695652: 0\n",
      "-21.73913043: 0\n",
      "-17.39130435: 0\n",
      "-13.04347826: 0\n",
      "-8.695652174: 0\n",
      "-4.347826087: 0\n",
      "0.0: 0\n",
      "4.347826087: 0\n",
      "8.695652174: 0\n",
      "13.04347826: 0\n",
      "17.39130435: 0\n",
      "21.73913043: 0\n",
      "26.08695652: 0\n",
      "30.43478261: 0\n",
      "34.7826087: 0\n",
      "39.13043478: 0\n",
      "43.47826087: 0\n",
      "47.82608696: 0\n",
      "52.17391304: 0\n",
      "56.52173913: 0\n",
      "60.86956522: 0\n",
      "65.2173913: 0\n",
      "spont_score: 87\n",
      "text_len: 0\n",
      "title_len: 0\n",
      "spont_score: 0\n"
     ]
    }
   ],
   "source": [
    "# fill missing values\n",
    "df_X_isna = df_X.isna()\n",
    "for name in df_X.columns:\n",
    "    print(f\"{name}: {df_X_isna[name].sum()}\")\n",
    "\n",
    "df_X[\"spont_score\"] = df_X[\"spont_score\"].fillna(value=0.239)\n",
    "print(f\"spont_score: {df_X.isna()['spont_score'].sum()}\")"
   ],
   "metadata": {
    "collapsed": false,
    "pycharm": {
     "name": "#%%\n"
    }
   }
  },
  {
   "cell_type": "code",
   "execution_count": 10,
   "outputs": [],
   "source": [
    "X = df_X.values"
   ],
   "metadata": {
    "collapsed": false,
    "pycharm": {
     "name": "#%%\n"
    }
   }
  },
  {
   "cell_type": "markdown",
   "source": [
    "### Cross-validation able to work with Naive and Flat approaches"
   ],
   "metadata": {
    "collapsed": false,
    "pycharm": {
     "name": "#%% md\n"
    }
   }
  },
  {
   "cell_type": "code",
   "execution_count": 11,
   "outputs": [],
   "source": [
    "import numpy as np\n",
    "from cross_val import cross_val"
   ],
   "metadata": {
    "collapsed": false,
    "pycharm": {
     "name": "#%%\n"
    }
   }
  },
  {
   "cell_type": "code",
   "execution_count": 12,
   "outputs": [],
   "source": [
    "from sklearn.ensemble import RandomForestClassifier"
   ],
   "metadata": {
    "collapsed": false,
    "pycharm": {
     "name": "#%%\n"
    }
   }
  },
  {
   "cell_type": "markdown",
   "source": [
    "### RandomForest (Hacking)"
   ],
   "metadata": {
    "collapsed": false,
    "pycharm": {
     "name": "#%% md\n"
    }
   }
  },
  {
   "cell_type": "code",
   "execution_count": 13,
   "outputs": [
    {
     "name": "stdout",
     "output_type": "stream",
     "text": [
      "Cross Validation k_folds=5, n_classes=2:\n",
      "\t0 pr: 0.673728813559322 rec: 0.452991452991453 f1: 0.5417376490630325\n",
      "\t1 pr: 0.625 rec: 0.44072948328267475 f1: 0.5169340463458111\n",
      "\t2 pr: 0.6383763837638377 rec: 0.4914772727272727 f1: 0.5553772070626003\n",
      "\t3 pr: 0.6752136752136753 rec: 0.45272206303724927 f1: 0.5420240137221269\n",
      "\t4 pr: 0.6940298507462687 rec: 0.510989010989011 f1: 0.5886075949367089\n",
      "avg: pr=0.6612697446566207 rec=0.4697818566055322 f1=0.5489361022260559\n"
     ]
    }
   ],
   "source": [
    "clf_factory = lambda: RandomForestClassifier(n_estimators=1000, random_state=0)\n",
    "cross_val(clf_factory, X, y_hac)"
   ],
   "metadata": {
    "collapsed": false,
    "pycharm": {
     "name": "#%%\n"
    }
   }
  },
  {
   "cell_type": "markdown",
   "source": [
    "### RandomForest (Exploit)"
   ],
   "metadata": {
    "collapsed": false,
    "pycharm": {
     "name": "#%% md\n"
    }
   }
  },
  {
   "cell_type": "code",
   "execution_count": 50,
   "outputs": [
    {
     "name": "stdout",
     "output_type": "stream",
     "text": [
      "Cross Validation k_folds=5, n_classes=2:\n",
      "\t0 pr: 0.8214285714285714 rec: 0.6433566433566433 f1: 0.7215686274509804\n",
      "\t1 pr: 0.8245614035087719 rec: 0.6438356164383562 f1: 0.7230769230769231\n",
      "\t2 pr: 0.7622950819672131 rec: 0.6118421052631579 f1: 0.6788321167883211\n",
      "\t3 pr: 0.8214285714285714 rec: 0.6216216216216216 f1: 0.7076923076923075\n",
      "\t4 pr: 0.8148148148148148 rec: 0.6666666666666666 f1: 0.7333333333333333\n",
      "avg: pr=0.8089056886295886 rec=0.6374645306692891 f1=0.7129006616683731\n"
     ]
    }
   ],
   "source": [
    "clf_factory = lambda: RandomForestClassifier(n_estimators=1000, random_state=0)\n",
    "cross_val(clf_factory, X, y_exp)"
   ],
   "metadata": {
    "collapsed": false,
    "pycharm": {
     "name": "#%%\n"
    }
   }
  },
  {
   "cell_type": "markdown",
   "source": [
    "### RandomForest (Hacking & Exploit - Flat approach)"
   ],
   "metadata": {
    "collapsed": false,
    "pycharm": {
     "name": "#%% md\n"
    }
   }
  },
  {
   "cell_type": "code",
   "execution_count": 51,
   "outputs": [
    {
     "name": "stdout",
     "output_type": "stream",
     "text": [
      "Cross Validation k_folds=5, n_classes=3:\n",
      "\t0 pr: [0.89142237 0.48571429 0.8       ] rec: [0.95687646 0.24519231 0.67132867] f1: [0.92299044 0.32587859 0.73003802]\n",
      "\t1 pr: [0.90054348 0.38461538 0.81300813] rec: [0.95339471 0.21857923 0.68493151] f1: [0.92621576 0.27874564 0.74349442]\n",
      "\t2 pr: [0.90083102 0.47244094 0.74074074] rec: [0.94810496 0.3        0.65789474] f1: [0.92386364 0.36697248 0.69686411]\n",
      "\t3 pr: [0.89202387 0.42857143 0.80357143] rec: [0.95692666 0.23880597 0.60810811] f1: [0.92333614 0.30670927 0.69230769]\n",
      "\t4 pr: [0.89767699 0.46153846 0.8028169 ] rec: [0.95302408 0.27135678 0.69090909] f1: [0.92452293 0.34177215 0.74267101]\n",
      "avg: pr=[0.89649955 0.4465761  0.79202744] rec=[0.95366537 0.25478686 0.66263442] f1=[0.92418578 0.32401563 0.72107505]\n"
     ]
    }
   ],
   "source": [
    "clf_factory = lambda: RandomForestClassifier(n_estimators=1000, random_state=0)\n",
    "cross_val(clf_factory, X, y_hac_exp)"
   ],
   "metadata": {
    "collapsed": false,
    "pycharm": {
     "name": "#%%\n"
    }
   }
  },
  {
   "cell_type": "markdown",
   "source": [
    "### LogisticRegression (Hacking)"
   ],
   "metadata": {
    "collapsed": false,
    "pycharm": {
     "name": "#%% md\n"
    }
   }
  },
  {
   "cell_type": "code",
   "execution_count": 52,
   "outputs": [
    {
     "name": "stdout",
     "output_type": "stream",
     "text": [
      "Cross Validation k_folds=5, n_classes=2:\n",
      "\t0 pr: 0.725 rec: 0.4131054131054131 f1: 0.5263157894736842\n",
      "\t1 pr: 0.7643979057591623 rec: 0.44376899696048633 f1: 0.5615384615384615\n",
      "\t2 pr: 0.6995884773662552 rec: 0.48295454545454547 f1: 0.5714285714285714\n",
      "\t3 pr: 0.7603686635944701 rec: 0.47277936962750716 f1: 0.5830388692579506\n",
      "\t4 pr: 0.7261904761904762 rec: 0.5027472527472527 f1: 0.594155844155844\n",
      "avg: pr=0.7351091045820728 rec=0.46307111557904096 f1=0.5672955071709024\n"
     ]
    }
   ],
   "source": [
    "from sklearn.linear_model import LogisticRegression\n",
    "\n",
    "clf_factory = lambda: LogisticRegression(solver='liblinear')\n",
    "cross_val(clf_factory, X, y_hac)"
   ],
   "metadata": {
    "collapsed": false,
    "pycharm": {
     "name": "#%%\n"
    }
   }
  },
  {
   "cell_type": "markdown",
   "source": [
    "### CatBoost (Hacking)"
   ],
   "metadata": {
    "collapsed": false,
    "pycharm": {
     "name": "#%% md\n"
    }
   }
  },
  {
   "cell_type": "code",
   "execution_count": 53,
   "outputs": [
    {
     "name": "stdout",
     "output_type": "stream",
     "text": [
      "Cross Validation k_folds=5, n_classes=2:\n",
      "\t0 pr: 0.7283950617283951 rec: 0.5042735042735043 f1: 0.5959595959595959\n",
      "\t1 pr: 0.6824034334763949 rec: 0.48328267477203646 f1: 0.5658362989323843\n",
      "\t2 pr: 0.6690647482014388 rec: 0.5284090909090909 f1: 0.5904761904761905\n",
      "\t3 pr: 0.7191489361702128 rec: 0.48424068767908307 f1: 0.5787671232876712\n",
      "\t4 pr: 0.6872727272727273 rec: 0.5192307692307693 f1: 0.5915492957746479\n",
      "avg: pr=0.6972569813698337 rec=0.5038873453728968 f1=0.584517700886098\n"
     ]
    }
   ],
   "source": [
    "from catboost import CatBoostClassifier\n",
    "\n",
    "clf_factory = lambda: CatBoostClassifier(iterations=2000,\n",
    "                                         learning_rate=0.1,\n",
    "                                         loss_function='Logloss',\n",
    "                                         verbose=False)\n",
    "\n",
    "cross_val(clf_factory, X, y_hac)"
   ],
   "metadata": {
    "collapsed": false,
    "pycharm": {
     "name": "#%%\n"
    }
   }
  },
  {
   "cell_type": "markdown",
   "source": [
    "### CatBoost (Exploit)"
   ],
   "metadata": {
    "collapsed": false,
    "pycharm": {
     "name": "#%% md\n"
    }
   }
  },
  {
   "cell_type": "code",
   "execution_count": 54,
   "outputs": [
    {
     "name": "stdout",
     "output_type": "stream",
     "text": [
      "Cross Validation k_folds=5, n_classes=2:\n",
      "\t0 pr: 0.8091603053435115 rec: 0.7412587412587412 f1: 0.7737226277372262\n",
      "\t1 pr: 0.7737226277372263 rec: 0.726027397260274 f1: 0.7491166077738517\n",
      "\t2 pr: 0.7171052631578947 rec: 0.7171052631578947 f1: 0.7171052631578947\n",
      "\t3 pr: 0.7910447761194029 rec: 0.7162162162162162 f1: 0.7517730496453902\n",
      "\t4 pr: 0.7770700636942676 rec: 0.7393939393939394 f1: 0.7577639751552795\n",
      "avg: pr=0.7736206072104606 rec=0.7280003114574132 f1=0.7498963046939284\n"
     ]
    }
   ],
   "source": [
    "clf_factory = lambda: CatBoostClassifier(iterations=2000,\n",
    "                                         learning_rate=0.1,\n",
    "                                         loss_function='Logloss',\n",
    "                                         verbose=False)\n",
    "\n",
    "cross_val(clf_factory, X, y_exp)"
   ],
   "metadata": {
    "collapsed": false,
    "pycharm": {
     "name": "#%%\n"
    }
   }
  },
  {
   "cell_type": "markdown",
   "source": [
    "### CatBoost (Hacking & Exploit - Flat approach)"
   ],
   "metadata": {
    "collapsed": false,
    "pycharm": {
     "name": "#%% md\n"
    }
   }
  },
  {
   "cell_type": "code",
   "execution_count": 56,
   "outputs": [
    {
     "name": "stdout",
     "output_type": "stream",
     "text": [
      "Cross Validation k_folds=5, n_classes=3:\n",
      "\t0 pr: [0.89658906 0.57777778 0.77692308] rec: [0.96503497 0.25       0.70629371] f1: [0.92955375 0.34899329 0.73992674]\n",
      "\t1 pr: [0.90830168 0.5        0.77536232] rec: [0.96317606 0.23497268 0.73287671] f1: [0.93493438 0.3197026  0.75352113]\n",
      "\t2 pr: [0.9044975  0.51260504 0.72108844] rec: [0.94985423 0.305      0.69736842] f1: [0.92662116 0.38244514 0.7090301 ]\n",
      "\t3 pr: [0.900271   0.53608247 0.824     ] rec: [0.96682189 0.25870647 0.69594595] f1: [0.93236037 0.34899329 0.75457875]\n",
      "\t4 pr: [0.9016031  0.51546392 0.77018634] rec: [0.95772167 0.25125628 0.75151515] f1: [0.92881549 0.33783784 0.7607362 ]\n",
      "avg: pr=[0.90225247 0.52838584 0.77351203] rec=[0.96052176 0.25998709 0.71679999] f1=[0.93045703 0.34759443 0.74355858]\n"
     ]
    }
   ],
   "source": [
    "clf_factory = lambda: CatBoostClassifier(iterations=2000,\n",
    "                                         learning_rate=0.1,\n",
    "                                         # loss_function='Logloss',\n",
    "                                         verbose=False)\n",
    "\n",
    "cross_val(clf_factory, X, y_hac_exp)"
   ],
   "metadata": {
    "collapsed": false,
    "pycharm": {
     "name": "#%%\n"
    }
   }
  }
 ],
 "metadata": {
  "kernelspec": {
   "display_name": "Python 3",
   "language": "python",
   "name": "python3"
  },
  "language_info": {
   "codemirror_mode": {
    "name": "ipython",
    "version": 2
   },
   "file_extension": ".py",
   "mimetype": "text/x-python",
   "name": "python",
   "nbconvert_exporter": "python",
   "pygments_lexer": "ipython2",
   "version": "2.7.6"
  }
 },
 "nbformat": 4,
 "nbformat_minor": 0
}